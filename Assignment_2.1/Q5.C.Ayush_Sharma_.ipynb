{
 "cells": [
  {
   "cell_type": "code",
   "execution_count": 2,
   "id": "f30fa834-93e4-41da-b26e-e6591a68dd20",
   "metadata": {},
   "outputs": [
    {
     "name": "stdout",
     "output_type": "stream",
     "text": [
      "Probability of earning Rs. 5 before 1:00 pm: 0.7110\n"
     ]
    }
   ],
   "source": [
    "import numpy as np\n",
    "\n",
    "def simulate_american_option(num_simulations=100000):\n",
    "    tick_size = 0.01\n",
    "    start_price = 120.0\n",
    "    target_price = 121\n",
    "    steps = 2160  # from 10:00 am to 1:00 pm (3 hours = 10800 seconds; every 5 sec = 10800 / 5 = 2160 steps)\n",
    "    success = 0\n",
    "\n",
    "    for _ in range(num_simulations):\n",
    "        price = start_price\n",
    "        for _ in range(steps):\n",
    "            move = np.random.choice(\n",
    "                [tick_size, 0, -tick_size],  \n",
    "                p=[0.1, 0.85, 0.05]          \n",
    "            )\n",
    "            price += move\n",
    "            if price >= target_price:\n",
    "                success += 1\n",
    "                break  \n",
    "\n",
    "    probability = success / num_simulations\n",
    "    return probability\n",
    "prob = simulate_american_option(num_simulations=1000)  \n",
    "print(f\"Probability of earning Rs. 5 before 1:00 pm: {prob:.4f}\")"
   ]
  },
  {
   "cell_type": "code",
   "execution_count": null,
   "id": "0d62bd67-ad6f-451b-8ce8-9d654b30a37b",
   "metadata": {},
   "outputs": [],
   "source": []
  }
 ],
 "metadata": {
  "kernelspec": {
   "display_name": "Python 3 (ipykernel)",
   "language": "python",
   "name": "python3"
  },
  "language_info": {
   "codemirror_mode": {
    "name": "ipython",
    "version": 3
   },
   "file_extension": ".py",
   "mimetype": "text/x-python",
   "name": "python",
   "nbconvert_exporter": "python",
   "pygments_lexer": "ipython3",
   "version": "3.13.0"
  }
 },
 "nbformat": 4,
 "nbformat_minor": 5
}
